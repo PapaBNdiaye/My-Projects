{
 "cells": [
  {
   "cell_type": "markdown",
   "metadata": {
    "id": "59OUyiad9dza"
   },
   "source": [
    "# Classification d'images avec un réseau de neurones sous PyTorch\n",
    "\n",
    "\n",
    "Dans ce projet, nous allons aborder la classification d'images en utilisant des réseaux de neurones avec PyTorch. L'objectif est de développer un modèle capable de reconnaître et de classer différentes catégories d'images. En suivant ce processus, nous allons acquérir une compréhension theorique et pratique des concepts fondamentaux du Deep Learnig."
   ]
  },
  {
   "cell_type": "markdown",
   "metadata": {},
   "source": [
    "## Explorations"
   ]
  },
  {
   "cell_type": "code",
   "execution_count": 72,
   "metadata": {
    "id": "SZueLInhpNlM"
   },
   "outputs": [],
   "source": [
    "####################################################\n",
    "import torch #######################################\n",
    "import torchvision #################################\n",
    "import torchvision.transforms as transforms ########\n",
    "import matplotlib.pyplot as plt ####################\n",
    "import numpy as np #################################\n",
    "####################################################\n",
    "\n",
    "# definition de la fonction transform\n",
    "transform = transforms.Compose(\n",
    "    [transforms.ToTensor(),\n",
    "     transforms.Normalize((0.5), ( 0.5))])  \n",
    "# on travaille avec des tensors donc on doit les normaliser pour rester dans [0,1]\n",
    "\n",
    "batch_size = 5 # correspond au choix de la taille du tirage d'ech aleatoire dans MNIST\n",
    "\n",
    "trainset = torchvision.datasets. MNIST(root='./data', train=True,\n",
    "                                        download=True, transform=transform)\n",
    "trainloader = torch.utils.data.DataLoader(trainset, batch_size=batch_size,\n",
    "                                          shuffle=True, num_workers=2)    \n",
    "# trainloader permet d'itterer les données facilement (batchs)\n",
    "\n",
    "testset = torchvision.datasets. MNIST(root='./data', train=False,\n",
    "                                       download=True, transform=transform)\n",
    "testloader = torch.utils.data.DataLoader(testset, batch_size=batch_size,\n",
    "                                         shuffle=False, num_workers=2) "
   ]
  },
  {
   "cell_type": "code",
   "execution_count": 73,
   "metadata": {
    "colab": {
     "base_uri": "https://localhost:8080/",
     "height": 187
    },
    "id": "gDP7OPoh5qE4",
    "outputId": "ffc46fde-3cbe-4746-b21c-d5071e4016eb"
   },
   "outputs": [
    {
     "data": {
      "image/png": "[encoded data removed]",
      "text/plain": [
       "<Figure size 640x480 with 1 Axes>"
      ]
     },
     "metadata": {},
     "output_type": "display_data"
    },
    {
     "name": "stdout",
     "output_type": "stream",
     "text": [
      "8     2     7     1     1    \n"
     ]
    }
   ],
   "source": [
    "# functions to show an image\n",
    "def imshow(img):\n",
    "    img = img / 2 + 0.5    \n",
    "    npimg = img.numpy()\n",
    "    plt.imshow(np.transpose(npimg, (1, 2, 0)))\n",
    "    plt.show()\n",
    "    \n",
    "dataiter = iter(trainloader)\n",
    "images, labels = next(dataiter)\n",
    "\n",
    "imshow(torchvision.utils.make_grid(images))\n",
    "classes = [\"0\",\"1\",\"2\",\"3\",\"4\",\"5\",\"6\",\"7\",\"8\",\"9\"]\n",
    "print(' '.join(f'{classes[labels[j]]:5s}' for j in range(batch_size)))"
   ]
  },
  {
   "cell_type": "code",
   "execution_count": 85,
   "metadata": {
    "colab": {
     "base_uri": "https://localhost:8080/"
    },
    "id": "dU-paiOLoTfZ",
    "outputId": "a43e1f8a-009f-4bc4-8e23-6a9b38440b15"
   },
   "outputs": [
    {
     "name": "stdout",
     "output_type": "stream",
     "text": [
      "torch.Size([5, 1, 28, 28])\n",
      "Dataset MNIST\n",
      "    Number of datapoints: 60000\n",
      "    Root location: ./data\n",
      "    Split: Train\n",
      "    StandardTransform\n",
      "Transform: Compose(\n",
      "               ToTensor()\n",
      "               Normalize(mean=0.5, std=0.5)\n",
      "           )\n",
      "Dataset MNIST\n",
      "    Number of datapoints: 10000\n",
      "    Root location: ./data\n",
      "    Split: Test\n",
      "    StandardTransform\n",
      "Transform: Compose(\n",
      "               ToTensor()\n",
      "               Normalize(mean=0.5, std=0.5)\n",
      "           )\n",
      "nbres dimages par classes dans trainset par ordre = tensor([5923, 6742, 5958, 6131, 5842, 5421, 5918, 6265, 5851, 5949])\n",
      "nbres dimages par classes dans testset par ordre = tensor([ 980, 1135, 1032, 1010,  982,  892,  958, 1028,  974, 1009])\n"
     ]
    }
   ],
   "source": [
    "print(images.shape) \n",
    "print(trainset)\n",
    "print(testset)\n",
    "print('nbres d''images par classes dans trainset par ordre =',trainset.targets.bincount())\n",
    "print('nbres d''images par classes dans testset par ordre =',  testset.targets.bincount())"
   ]
  },
  {
   "cell_type": "markdown",
   "metadata": {
    "id": "E6wiUT0FEFRt"
   },
   "source": [
    "# Réseau de neurones convolutionnel (CNN)\n",
    "\n",
    "Un **CNN** est un type de modèle utilisé principalement pour la classification d'images. Il fonctionne en appliquant des filtres pour extraire des caractéristiques importantes des images, ce qui permet au modèle de reconnaître et de classer efficacement différents objets ou motifs.\n",
    "\n",
    "On souhaite définir un CNN qui s'applique aux images de `MNIST`et effectue la suite d'opérations suivante :\n",
    "\n",
    "**Partie CNN :** \n",
    " * Une convolution 2D de noyau de taille 5x5 avec 16 canaux en sortie, suivie d'une activation  ReLU.\n",
    " * Un max-pooling 2D de taille 2x2\n",
    " * Une convolution 2D de noyau de taille 5x5 avec 32 canaux en sortie, suivie d'une activation  ReLU.\n",
    " * Un max-pooling 2D de taille 2x2\n",
    " \n",
    "**Partie linéaire :**\n",
    " * Une couche linéaire finale permettant la classification.\n",
    "\n"
   ]
  },
  {
   "cell_type": "markdown",
   "metadata": {
    "id": "n8DvQkuFn8CH"
   },
   "source": [
    "\n",
    "Etant donnée un batch `x` (dont on précisera les dimensions) en entrée du CNN, expliciter les dimensions des tenseurs en entrée et en sortie de chacune des couches successives du réseau. On prendra soin de préciser les opérations nécessaires pour passer de la partie CNN à la partie linéaire."
   ]
  },
  {
   "cell_type": "markdown",
   "metadata": {
    "id": "N6lIlUYlhD5L"
   },
   "source": [
    "**NB : Les modifications n'ont pas d'influences sur le nombre de canaux de sortie.**\n",
    "\n",
    "Pour un input de taille **(1,28,28)**, une convolution 2D de noyau de taille 5x5, on retient : \n",
    "- Le nombre de canaux qui est **1** ici, \n",
    "- la taille du noyau **5** et \n",
    "- le nombre de canaux de sortie souhaité , ici  **16**. \n",
    "\n",
    "Donc la première convolution est faite sur**(1, 16, 5)**.\n",
    "\n",
    "Avec une 2e convolution suivant les indications annoncées, on le fera sur  **(16, 32, 5)**.\n",
    "\n",
    "**Ensuite**, pour faire la couche linéaire, il est nécessaire de connaitre le nombre de pixels après la deuxième convolution. Ainsi, on va d'écrire le procédé comme suit avec toutes les opérations :\n",
    "\n",
    "**La premiere convolution** modifie la sortie en affectant la taille des pixels. \n",
    "\n",
    "    5=2*2+1 donc on a comme sortie (16,28-4,28-4)=(16,24,24) suivie d'une activation Relu.\n",
    "\n",
    "\n",
    "**Un max-pooling 2D de taille 2x2** : \n",
    "\n",
    "- La taille de l'image est divisée par 2 de la façon suivante, (16,24/2,24/2)=(16,12,12) suivie une Relu. \n",
    "- Par la suite, en lui faisant subir la 2ᵉ convolution, le principe appliqué en 1 conduit à l'obtention de (32,8,8)\n",
    "\n",
    "\n",
    "**Enfin**, en lui faisant subir un 2e max-pooling 2D de taille 2x2, on obtient la taille finale **(32,4,4)** et comme on a 10 classes, la couche sera appliquée à \n",
    "\n",
    "**(32x4x4, 10).**\n",
    " "
   ]
  },
  {
   "cell_type": "markdown",
   "metadata": {
    "id": "-fFaKUnQoBPo"
   },
   "source": [
    "Définir une class `CNNet` qui implémente le modèle décrit ci-dessus.\n",
    "\n",
    "Définir un réseau cnnet = CNNet() et tester sa fonction `forward` sur un batch du `trainset`.\n",
    "\n",
    "Afficher quel est le nombre de paramètres du réseau."
   ]
  },
  {
   "cell_type": "code",
   "execution_count": 75,
   "metadata": {
    "id": "OzbVEKc0oVqq"
   },
   "outputs": [],
   "source": [
    "import torch.nn as nn\n",
    "import torch.nn.functional as F\n",
    "\n",
    "class CNNet(nn.Module):\n",
    "    def __init__(self):\n",
    "        super().__init__()\n",
    "        self.conv1 = nn.Conv2d(1, 16, 5)\n",
    "        self.conv2 = nn.Conv2d(16, 32, 5)\n",
    "        self.fc1 = nn.Linear(32*4*4, 10)\n",
    "        \n",
    "    def forward(self, x):\n",
    "        x = F.max_pool2d(F.relu(self.conv1(x)), 2)\n",
    "        x = F.max_pool2d(F.relu(self.conv2(x)), 2)\n",
    "        x = torch.flatten(x, 1)\n",
    "        x = F.relu(self.fc1(x))\n",
    "        return x\n",
    "\n",
    "cnnet = CNNet()"
   ]
  },
  {
   "cell_type": "markdown",
   "metadata": {
    "id": "czxLOjJpImVp"
   },
   "source": [
    "# Entraînement du réseau"
   ]
  },
  {
   "cell_type": "markdown",
   "metadata": {
    "id": "zuR8wb74oLek"
   },
   "source": [
    "C’est là que les choses commencent à devenir intéressantes.\n",
    "Nous devons simplement faire une boucle sur notre itérateur de données, et alimenter les entrées à la réseau et optimiser.\n"
   ]
  },
  {
   "cell_type": "code",
   "execution_count": 76,
   "metadata": {
    "id": "0F9QJRz6prRK"
   },
   "outputs": [],
   "source": [
    "import torch.optim as optim\n",
    "criterion = nn.CrossEntropyLoss()   \n",
    "optimizer = optim.SGD(cnnet.parameters(), lr=0.001, momentum=0.9) "
   ]
  },
  {
   "cell_type": "code",
   "execution_count": 77,
   "metadata": {
    "colab": {
     "base_uri": "https://localhost:8080/"
    },
    "id": "V7gmjOnKn7ec",
    "outputId": "25a8752f-de1a-4fd0-8956-862635d264e9"
   },
   "outputs": [
    {
     "name": "stdout",
     "output_type": "stream",
     "text": [
      "[1,  2000] loss: 0.751\n",
      "[1,  4000] loss: 0.355\n",
      "[1,  6000] loss: 0.330\n",
      "[1,  8000] loss: 0.309\n",
      "[1, 10000] loss: 0.314\n",
      "[1, 12000] loss: 0.294\n",
      "[2,  2000] loss: 0.275\n",
      "[2,  4000] loss: 0.282\n",
      "[2,  6000] loss: 0.285\n",
      "[2,  8000] loss: 0.194\n",
      "[2, 10000] loss: 0.062\n",
      "[2, 12000] loss: 0.057\n",
      "[3,  2000] loss: 0.042\n",
      "[3,  4000] loss: 0.045\n",
      "[3,  6000] loss: 0.041\n",
      "[3,  8000] loss: 0.040\n",
      "[3, 10000] loss: 0.048\n",
      "[3, 12000] loss: 0.043\n",
      "[4,  2000] loss: 0.035\n",
      "[4,  4000] loss: 0.034\n",
      "[4,  6000] loss: 0.033\n",
      "[4,  8000] loss: 0.035\n",
      "[4, 10000] loss: 0.036\n",
      "[4, 12000] loss: 0.031\n",
      "[5,  2000] loss: 0.025\n",
      "[5,  4000] loss: 0.027\n",
      "[5,  6000] loss: 0.030\n",
      "[5,  8000] loss: 0.031\n",
      "[5, 10000] loss: 0.025\n",
      "[5, 12000] loss: 0.033\n",
      "[6,  2000] loss: 0.022\n",
      "[6,  4000] loss: 0.023\n",
      "[6,  6000] loss: 0.024\n",
      "[6,  8000] loss: 0.024\n",
      "[6, 10000] loss: 0.025\n",
      "[6, 12000] loss: 0.022\n",
      "[7,  2000] loss: 0.016\n",
      "[7,  4000] loss: 0.021\n",
      "[7,  6000] loss: 0.021\n",
      "[7,  8000] loss: 0.020\n",
      "[7, 10000] loss: 0.018\n",
      "[7, 12000] loss: 0.025\n",
      "[8,  2000] loss: 0.017\n",
      "[8,  4000] loss: 0.014\n",
      "[8,  6000] loss: 0.018\n",
      "[8,  8000] loss: 0.021\n",
      "[8, 10000] loss: 0.020\n",
      "[8, 12000] loss: 0.017\n",
      "[9,  2000] loss: 0.015\n",
      "[9,  4000] loss: 0.014\n",
      "[9,  6000] loss: 0.015\n",
      "[9,  8000] loss: 0.014\n",
      "[9, 10000] loss: 0.019\n",
      "[9, 12000] loss: 0.014\n",
      "[10,  2000] loss: 0.010\n",
      "[10,  4000] loss: 0.011\n",
      "[10,  6000] loss: 0.016\n",
      "[10,  8000] loss: 0.012\n",
      "[10, 10000] loss: 0.017\n",
      "[10, 12000] loss: 0.017\n",
      "Finished Training\n"
     ]
    }
   ],
   "source": [
    "import time\n",
    "start = time.time()\n",
    "for epoch in range(10):  \n",
    "    running_loss = 0.0 # \n",
    "    for i, data in enumerate(trainloader, 0):\n",
    "        # get the inputs; data is a list of [inputs, labels]\n",
    "        inputs, labels = data\n",
    "        # zero the parameter gradients\n",
    "        optimizer.zero_grad()\n",
    "        # forward + backward + optimize\n",
    "        outputs = cnnet(inputs)\n",
    "        loss = criterion(outputs, labels)\n",
    "        loss.backward()\n",
    "        optimizer.step()\n",
    "        # print statistics\n",
    "        running_loss += loss.item()\n",
    "        if i % 2000 == 1999:    # print every 2000 mini-batches\n",
    "            print(f'[{epoch + 1}, {i + 1:5d}] loss: {running_loss / 2000:.3f}')\n",
    "            running_loss = 0.0\n",
    "\n",
    "print('Finished Training')\n",
    "\n",
    "end = time.time()\n",
    "elapsed = end - start\n",
    "\n",
    "print(f'Temps d\\'exécution : {elapsed:.2}ms')"
   ]
  },
  {
   "cell_type": "markdown",
   "metadata": {
    "id": "wXnVSLQyTxwb"
   },
   "source": [
    "D'une première couche de neurones (unités) : chaque unité correspond à une des variables d'entrée. On peut rajouter une unité de biais qui est toujours activée (elle transmet 1 quelles que soient les données).\n",
    "\n",
    "Ces unités sont reliées à une seule et unique unité de sortie (dans le cas d'un perceptron), qui reçoit la somme des unités qui lui sont reliées, pondérée par des poids de connexion."
   ]
  },
  {
   "cell_type": "markdown",
   "metadata": {
    "id": "U5mWfJ30keBW"
   },
   "source": [
    "Pour p variables $ x_1,x_2,…,x_p,$ la sortie reçoit donc $ w_0 + \\sum_{j=1}^p(w_j x_j) $ . L'unité de sortie applique alors une fonction d'activation a à cette sortie. \n",
    "\n",
    "Un reseau prédit ainsi grâce à une fonction de décision f définie par $f(x)$=$a( w_0 + \\sum_{j=1}^p(w_j x_j) ) $. Cette fonction a une forme explicite, il s'agit bien d'un modèle paramétrique."
   ]
  },
  {
   "cell_type": "markdown",
   "metadata": {
    "id": "gWYzNf-6pMfi"
   },
   "source": [
    "A l'aide des fonctions de ```sklearn```, nous allons évaluer la performance du réseau entraîné (rapport de classification et matrice de confusion)."
   ]
  },
  {
   "cell_type": "code",
   "execution_count": 22,
   "metadata": {
    "id": "Y-juO4D_22Wy"
   },
   "outputs": [],
   "source": [
    "all_labels = torch.tensor([])\n",
    "all_predicted = torch.tensor([])\n",
    "with torch.no_grad():\n",
    "    for data in testloader:  \n",
    "        images, labels = data\n",
    "        outputs = cnnet(images)        \n",
    "        _, predicted = torch.max(outputs.data, 1)\n",
    "\n",
    "        all_labels = torch.cat((all_labels, labels))\n",
    "        all_predicted = torch.cat((all_predicted, predicted)) "
   ]
  },
  {
   "cell_type": "code",
   "execution_count": 23,
   "metadata": {
    "colab": {
     "base_uri": "https://localhost:8080/",
     "height": 781
    },
    "id": "OLDHI_U9psMu",
    "outputId": "8c2a3bad-dbe6-417e-8e57-f44c1754eb3d"
   },
   "outputs": [
    {
     "name": "stdout",
     "output_type": "stream",
     "text": [
      "              precision    recall  f1-score   support\n",
      "\n",
      "           0       0.99      1.00      1.00       980\n",
      "           1       0.99      1.00      0.99      1135\n",
      "           2       0.99      0.99      0.99      1032\n",
      "           3       0.99      1.00      0.99      1010\n",
      "           4       0.99      0.98      0.99       982\n",
      "           5       0.99      0.99      0.99       892\n",
      "           6       0.99      0.99      0.99       958\n",
      "           7       0.99      0.99      0.99      1028\n",
      "           8       0.99      0.99      0.99       974\n",
      "           9       0.98      0.98      0.98      1009\n",
      "\n",
      "    accuracy                           0.99     10000\n",
      "   macro avg       0.99      0.99      0.99     10000\n",
      "weighted avg       0.99      0.99      0.99     10000\n",
      "\n"
     ]
    },
    {
     "data": {
      "text/plain": [
       "<sklearn.metrics._plot.confusion_matrix.ConfusionMatrixDisplay at 0x7fb111f2d2a0>"
      ]
     },
     "execution_count": 23,
     "metadata": {},
     "output_type": "execute_result"
    },
    {
     "data": {
      "image/png": "[encoded data removed]",
      "text/plain": [
       "<Figure size 640x480 with 2 Axes>"
      ]
     },
     "metadata": {},
     "output_type": "display_data"
    }
   ],
   "source": [
    "from sklearn.metrics import classification_report\n",
    "from sklearn.metrics import confusion_matrix, ConfusionMatrixDisplay\n",
    "\n",
    "t_test = all_labels \n",
    "t_pred = all_predicted\n",
    "\n",
    "#Classification report\n",
    "print(classification_report(t_test,t_pred,target_names = classes))\n",
    "#Confusion matrix\n",
    "cm = confusion_matrix(t_test,t_pred)\n",
    "disp = ConfusionMatrixDisplay(confusion_matrix=cm,display_labels = classes)\n",
    "disp.plot()"
   ]
  },
  {
   "cell_type": "markdown",
   "metadata": {
    "id": "BtdT8Xo1z9Rq"
   },
   "source": [
    "On a de bonnes précisions d'environ 99% donc on peut dire que notre réseau est bien entrainé. Mais aussi notre matrice confirme l'efficacité de notre réseau, car on ne perçoit pas beaucoup d'erreurs comme nous pouvons le voir sur la diagonale principale."
   ]
  },
  {
   "cell_type": "markdown",
   "metadata": {
    "id": "JnsGeSQKLjeB"
   },
   "source": [
    "## Comparaison avec un réseau à une couche cachée"
   ]
  },
  {
   "cell_type": "markdown",
   "metadata": {
    "id": "qCREf5WDLyr9"
   },
   "source": [
    "Pour finir nous allons comparer la performance du réseau CNN avec un réseau simple à une seule couche cachée.\n",
    "\n",
    "On va utiliser l'architecture suivante : \n",
    "\n",
    "* Une couche linéaire avec dimension de sortie 100, suivie d'une activation  ReLU.\n",
    "* Une couche linéaire finale permettant la classification."
   ]
  },
  {
   "cell_type": "markdown",
   "metadata": {
    "id": "AC7uNrIypXeZ"
   },
   "source": [
    "Dans cette partie, nous allons : \n",
    "\n",
    "- Définir une class `MLP` qui implémente le modèle décrit ci-dessus.\n",
    "- Définir un réseau mlp = MLP() et tester sa fonction `forward` sur un batch du `trainset`et enfin\n",
    "- Afficher le nombre de paramètres du réseau `mlp`."
   ]
  },
  {
   "cell_type": "code",
   "execution_count": 84,
   "metadata": {
    "id": "7TpxHGM6ptkG"
   },
   "outputs": [],
   "source": [
    "import torch.nn as nn\n",
    "import torch.nn.functional as F\n",
    "\n",
    "class MLP (nn.Module):\n",
    "    def __init__(self):\n",
    "        super().__init__()\n",
    "        self.fc1 = nn.Linear(28*28, 100) \n",
    "        self.fc2 = nn.Linear(100, 10) # 10 est le nombre de classes \n",
    "    def forward(self, x):\n",
    "      \n",
    "        x = torch.flatten(x, 1)\n",
    "        x = F.relu(self.fc1(x))\n",
    "        x = self.fc2(x)\n",
    "        return x\n",
    "mlp = MLP()"
   ]
  },
  {
   "cell_type": "code",
   "execution_count": 69,
   "metadata": {
    "colab": {
     "base_uri": "https://localhost:8080/"
    },
    "id": "IuGi6-KDiRcR",
    "outputId": "9ddb1879-5038-489a-d978-440badddeb1d"
   },
   "outputs": [
    {
     "name": "stdout",
     "output_type": "stream",
     "text": [
      "4\n",
      "torch.Size([100, 784])\n"
     ]
    }
   ],
   "source": [
    "# Pour le nombre de paramétre du réseaux.\n",
    "params = list(mlp.parameters())\n",
    "print(len(params))\n",
    "print(params[0].size())  "
   ]
  },
  {
   "cell_type": "markdown",
   "metadata": {
    "id": "R12E5_Tqpc-4"
   },
   "source": [
    "# Entraînement du réseau `mlp` et évaluation de sa performance."
   ]
  },
  {
   "cell_type": "code",
   "execution_count": 80,
   "metadata": {
    "id": "c0yUo_0lJUMT"
   },
   "outputs": [],
   "source": [
    "import torch.optim as optim\n",
    "criterion = nn.CrossEntropyLoss()  # calcul du log de vraisemblance \n",
    "optimizer = optim.SGD(mlp.parameters(), lr=0.001, momentum=0.9) # calcul du gradient stochastique "
   ]
  },
  {
   "cell_type": "code",
   "execution_count": 81,
   "metadata": {
    "colab": {
     "base_uri": "https://localhost:8080/"
    },
    "id": "JM6qbY1YJUY8",
    "outputId": "c15911e4-98b4-48cf-eedc-b67f5375ab02"
   },
   "outputs": [
    {
     "name": "stdout",
     "output_type": "stream",
     "text": [
      "[1,  2000] loss: 0.669\n",
      "[1,  4000] loss: 0.370\n",
      "[1,  6000] loss: 0.317\n",
      "[1,  8000] loss: 0.289\n",
      "[1, 10000] loss: 0.252\n",
      "[1, 12000] loss: 0.233\n",
      "[2,  2000] loss: 0.206\n",
      "[2,  4000] loss: 0.191\n",
      "[2,  6000] loss: 0.179\n",
      "[2,  8000] loss: 0.159\n",
      "[2, 10000] loss: 0.161\n",
      "[2, 12000] loss: 0.152\n",
      "[3,  2000] loss: 0.136\n",
      "[3,  4000] loss: 0.128\n",
      "[3,  6000] loss: 0.133\n",
      "[3,  8000] loss: 0.134\n",
      "[3, 10000] loss: 0.129\n",
      "[3, 12000] loss: 0.121\n",
      "[4,  2000] loss: 0.108\n",
      "[4,  4000] loss: 0.112\n",
      "[4,  6000] loss: 0.108\n",
      "[4,  8000] loss: 0.113\n",
      "[4, 10000] loss: 0.102\n",
      "[4, 12000] loss: 0.101\n",
      "[5,  2000] loss: 0.091\n",
      "[5,  4000] loss: 0.090\n",
      "[5,  6000] loss: 0.093\n",
      "[5,  8000] loss: 0.103\n",
      "[5, 10000] loss: 0.083\n",
      "[5, 12000] loss: 0.085\n",
      "[6,  2000] loss: 0.082\n",
      "[6,  4000] loss: 0.085\n",
      "[6,  6000] loss: 0.083\n",
      "[6,  8000] loss: 0.084\n",
      "[6, 10000] loss: 0.073\n",
      "[6, 12000] loss: 0.081\n",
      "[7,  2000] loss: 0.071\n",
      "[7,  4000] loss: 0.075\n",
      "[7,  6000] loss: 0.070\n",
      "[7,  8000] loss: 0.079\n",
      "[7, 10000] loss: 0.067\n",
      "[7, 12000] loss: 0.074\n",
      "[8,  2000] loss: 0.064\n",
      "[8,  4000] loss: 0.063\n",
      "[8,  6000] loss: 0.068\n",
      "[8,  8000] loss: 0.071\n",
      "[8, 10000] loss: 0.065\n",
      "[8, 12000] loss: 0.070\n",
      "[9,  2000] loss: 0.061\n",
      "[9,  4000] loss: 0.055\n",
      "[9,  6000] loss: 0.057\n",
      "[9,  8000] loss: 0.063\n",
      "[9, 10000] loss: 0.063\n",
      "[9, 12000] loss: 0.065\n",
      "[10,  2000] loss: 0.049\n",
      "[10,  4000] loss: 0.059\n",
      "[10,  6000] loss: 0.056\n",
      "[10,  8000] loss: 0.053\n",
      "[10, 10000] loss: 0.055\n",
      "[10, 12000] loss: 0.056\n",
      "Finished Training\n"
     ]
    }
   ],
   "source": [
    "import time\n",
    "start = time.time()\n",
    "\n",
    "for epoch in range(10):   \n",
    "    running_loss = 0.0 \n",
    "    for i, data in enumerate(trainloader, 0):\n",
    "        inputs, labels = data\n",
    "        optimizer.zero_grad()\n",
    "        \n",
    "        # forward + backward + optimize\n",
    "        outputs = mlp(inputs)\n",
    "        loss = criterion(outputs, labels)\n",
    "        loss.backward()\n",
    "        optimizer.step()\n",
    "\n",
    "        # print statistics\n",
    "        running_loss += loss.item()\n",
    "        if i % 2000 == 1999:    # print every 2000 mini-batches\n",
    "            print(f'[{epoch + 1}, {i + 1:5d}] loss: {running_loss / 2000:.3f}')\n",
    "            running_loss = 0.0\n",
    "\n",
    "print('Finished Training')\n",
    "\n",
    "end = time.time()\n",
    "elapsed = end - start\n",
    "\n",
    "print(f'Temps d\\'exécution : {elapsed:.2}m')"
   ]
  },
  {
   "cell_type": "markdown",
   "metadata": {
    "id": "9e9qWTKjzuzx"
   },
   "source": [
    "# Application de MLP"
   ]
  },
  {
   "cell_type": "code",
   "execution_count": 82,
   "metadata": {
    "id": "__xeqObyzW1Q"
   },
   "outputs": [],
   "source": [
    "all_labels = torch.tensor([])\n",
    "all_predicted = torch.tensor([])\n",
    "with torch.no_grad():\n",
    "    for data in testloader:   \n",
    "        images, labels = data\n",
    "        outputs = mlp(images)        \n",
    "        _, predicted = torch.max(outputs.data, 1)\n",
    "\n",
    "        all_labels = torch.cat((all_labels, labels)) \n",
    "        all_predicted = torch.cat((all_predicted, predicted)) "
   ]
  },
  {
   "cell_type": "code",
   "execution_count": 83,
   "metadata": {
    "colab": {
     "base_uri": "https://localhost:8080/",
     "height": 781
    },
    "id": "b7MhDAcLzW54",
    "outputId": "42cd4b01-26cb-4446-b122-1235e20fcb43"
   },
   "outputs": [
    {
     "name": "stdout",
     "output_type": "stream",
     "text": [
      "              precision    recall  f1-score   support\n",
      "\n",
      "           0       0.98      0.98      0.98       980\n",
      "           1       0.99      0.99      0.99      1135\n",
      "           2       0.97      0.97      0.97      1032\n",
      "           3       0.96      0.98      0.97      1010\n",
      "           4       0.99      0.94      0.97       982\n",
      "           5       0.98      0.96      0.97       892\n",
      "           6       0.93      0.99      0.96       958\n",
      "           7       0.96      0.98      0.97      1028\n",
      "           8       0.97      0.97      0.97       974\n",
      "           9       0.98      0.95      0.97      1009\n",
      "\n",
      "    accuracy                           0.97     10000\n",
      "   macro avg       0.97      0.97      0.97     10000\n",
      "weighted avg       0.97      0.97      0.97     10000\n",
      "\n"
     ]
    },
    {
     "data": {
      "text/plain": [
       "<sklearn.metrics._plot.confusion_matrix.ConfusionMatrixDisplay at 0x7fb10d49bcd0>"
      ]
     },
     "execution_count": 83,
     "metadata": {},
     "output_type": "execute_result"
    },
    {
     "data": {
      "image/png": "[encoded data removed]",
      "text/plain": [
       "<Figure size 640x480 with 2 Axes>"
      ]
     },
     "metadata": {},
     "output_type": "display_data"
    }
   ],
   "source": [
    "from sklearn.metrics import classification_report\n",
    "from sklearn.metrics import confusion_matrix, ConfusionMatrixDisplay\n",
    "\n",
    "t_test = all_labels \n",
    "t_pred = all_predicted\n",
    "\n",
    "#Classification report\n",
    "print(classification_report(t_test,t_pred,target_names = classes))\n",
    "\n",
    "#Confusion matrix\n",
    "cm = confusion_matrix(t_test,t_pred)\n",
    "disp = ConfusionMatrixDisplay(confusion_matrix=cm,display_labels = classes)\n",
    "disp.plot()"
   ]
  },
  {
   "cell_type": "markdown",
   "metadata": {
    "id": "2okXYjmX-5KP"
   },
   "source": [
    "Comparer au premier réseau, il est moins efficace en terme de classiffication et prend moins de temps pour s'executer. \n",
    "Cela est peut etre du par le fait qu'on a pas de convolution ni de max pooling pour ce dernier. Ainsi, on peut bien avoir un probléme comme le gradient qui s'annule plus fréquament ..."
   ]
  },
  {
   "cell_type": "markdown",
   "metadata": {
    "id": "LgVZ2AJ9_2kx"
   },
   "source": [
    "# CONCLUSION :"
   ]
  },
  {
   "cell_type": "markdown",
   "metadata": {
    "id": "tsRUjsRX-A5c"
   },
   "source": [
    "Les réseaux de neurones à propagation avant, ou perceptrons multicouches (MLP), sont constitués d'une couche d'entrée, d'une ou plusieurs couches cachées et d'une couche de sortie. Si ces réseaux de neurones sont aussi communément appelés MLP, il est important de noter qu'ils sont en fait composés de neurones sigmoïdes, et non pas de perceptrons, car la plupart des problèmes du monde réel sont non linéaires. Les données sont généralement introduites dans ces modèles pour les entraîner, et ils constituent la base de la vision par ordinateur, du traitement du langage naturel et d'autres réseaux de neurones.\n",
    "En fait, ils s'appuient sur des données d'entraînement pour apprendre et améliorer leur précision au fil du temps. Cependant, une fois que ces algorithmes d'apprentissage sont réglés avec précision, ils constituent des outils puissants en informatique et en intelligence artificielle, nous permettant de classer et de regrouper des données à une vitesse élevée. Les tâches de reconnaissance vocale ou de reconnaissance d'images peuvent prendre quelques minutes plutôt que des heures par rapport à l'identification manuelle par des experts humains. L'un des réseaux de neurones les plus connus est l'algorithme de recherche de Google.\n",
    "Déjà à l’heure actuelle, GPT-4 est suffisamment avancé pour réussir haut la main l’évaluation de l’École du Barreau et plusieurs entreprises de comptabilité utilisent ChatGPT. En parallèle, les entreprises comme OpenAI, Google et Meta construisent des systèmes permettant de générer instantanément des images et des vidéos à partir d’une description textuelle. On peut citer pour exemple DALL-E et MidJourney. D’autres entreprises créent des robots capables d’utiliser un site web ou une application comme un humain le fait. Les technologies d’intelligence artificielle actuelles sont basées sur des « réseaux de neurones » basés sur la façon dont le cerveau humain fonctionne.\n",
    "Toutefois, nos cerveaux sont beaucoup plus efficaces et compliqués. C’est ce qui leur confère des capacités dont l’IA est dépourvue comme l’imagination, l’inventivité ou la créativité. Même si les réseaux de neurones sont passés de quelques millions de paramètres à plus de 200 milliards, les systèmes d’intelligence artificielle restent de simples machines dénuées de conscience.\n",
    "\n",
    "\n",
    "En somme, si on regarde la conception d'un réseau, on croit que les choses sont simples alors que derrière, ce sont des tas de choses importants et pas faciles à manipuler qui s'y cachent. Et à ce stade, on peut parler du Loss, du cross-entropy venant de la log likelihood, des coûts à maximiser, de la descente de gradient, etc. \n",
    "\n",
    "Ce projet m'a permis de découvrir un nouvel environnement qui a éveillé ma curiosité sur le changement du monde par un développement avancé de cette technologie, mais également beaucoup ouvert les yeux sur mon orientation professionnelle. "
   ]
  },
  {
   "cell_type": "markdown",
   "metadata": {},
   "source": [
    "# References :"
   ]
  },
  {
   "cell_type": "markdown",
   "metadata": {
    "id": "ms4FR5IDVy1J"
   },
   "source": [
    "https://www.ibm.com/fr-fr/topics/neural-networks \\\\\\\n",
    "https://www.lebigdata.fr/futur-ia-dossier \\\\\\\n",
    "https://openclassrooms.com/fr/courses/4470406-utilisez-des-modeles-supervises-non-lineaires/4730716-entrainez-un-reseau-de-neurones-simple"
   ]
  }
 ],
 "metadata": {
  "colab": {
   "provenance": []
  },
  "gpuClass": "standard",
  "kernelspec": {
   "display_name": "Python 3 (ipykernel)",
   "language": "python",
   "name": "python3"
  },
  "language_info": {
   "codemirror_mode": {
    "name": "ipython",
    "version": 3
   },
   "file_extension": ".py",
   "mimetype": "text/x-python",
   "name": "python",
   "nbconvert_exporter": "python",
   "pygments_lexer": "ipython3",
   "version": "3.9.12"
  }
 },
 "nbformat": 4,
 "nbformat_minor": 1
}
